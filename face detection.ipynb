{
 "cells": [
  {
   "cell_type": "code",
   "execution_count": 1,
   "id": "d64745ca",
   "metadata": {},
   "outputs": [],
   "source": [
    "import cv2"
   ]
  },
  {
   "cell_type": "code",
   "execution_count": 2,
   "id": "6eb3b936",
   "metadata": {},
   "outputs": [],
   "source": [
    "cface=cv2.CascadeClassifier(\"C:/Users/gargd/OneDrive/Desktop/pythonAI/pretrain FILES/haarcascade_frontalface_default.xml\")\n",
    "ceye=cv2.CascadeClassifier(\"C/Users/gargdOneDrive/Desktop/pythonAI/pretrain FILES/haarcascade_eye.xml\")\n",
    "csmile=cv2.CascadeClassifier(\"C:/Users/gargd/OneDrive/Desktop/pythonAI/pretrain FILES/haarcascade_smile.xml\")\n",
    "def detect(gray,frame):\n",
    "    faces=cface.detectMultiScale(gray,1.3,5)\n",
    "    for(x,y,w,h) in faces:\n",
    "        cv2.rectangle(frame,(x,y),(x+w,y+h),(255,0,0),2)\n",
    "        roi_gray=gray[y:y+h,x:x+w]\n",
    "        roi_color=frame[y:y+h,x:x+w]\n",
    "        smiles=csmile.detectMultiScale(roi_gray,1.8,20)\n",
    "        for(sx,sy,sw,sh) in smiles:\n",
    "            cv2.rectangle(roi_color,(sx,sy),(sx+sw,sy+sh),(0,0,255),2)\n",
    "    return frame\n",
    "video=cv2.VideoCapture(0)\n",
    "while(video.isOpened()):\n",
    "    i,frame=video.read()\n",
    "    gray=cv2.cvtColor(frame,cv2.COLOR_BGR2GRAY)\n",
    "    canvas=detect(gray,frame)\n",
    "    cv2.imshow('',canvas)\n",
    "    if(cv2.waitKey(1)&0XFF==ord('q')):\n",
    "        break\n",
    "video.release()\n",
    "cv2.destroyAllWindows()\n"
   ]
  },
  {
   "cell_type": "markdown",
   "id": "7707b0f6",
   "metadata": {},
   "source": [
    "# Eye detection"
   ]
  },
  {
   "cell_type": "code",
   "execution_count": 3,
   "id": "466be10d",
   "metadata": {},
   "outputs": [],
   "source": [
    "import cv2\n",
    "cface=cv2.CascadeClassifier(\"C:/Users/gargd/OneDrive/Desktop/pythonAI/pretrain FILES/haarcascade_frontalface_default.xml\")\n",
    "ceye=cv2.CascadeClassifier(\"C/Users/gargdOneDrive/Desktop/pythonAI/pretrain FILES/haarcascade_eye.xml\")\n",
    "csmile=cv2.CascadeClassifier(\"C:/Users/gargd/OneDrive/Desktop/pythonAI/pretrain FILES/haarcascade_smile.xml\")\n",
    "def detect(gray,frame):\n",
    "    faces=cface.detectMultiScale(gray,1.3,5)\n",
    "    for(x,y,w,h) in faces:\n",
    "        cv2.rectangle(frame,(x,y),(x+w,y+h),(255,0,0),2)\n",
    "        roi_gray=gray[y:y+h,x:x+w]\n",
    "        roi_color=frame[y:y+h,x:x+w]\n",
    "        seye=ceye.detectMultiScale(roi_gray)\n",
    "        for(sx,sy,sw,sh) in seye:\n",
    "            cv2.rectangle(roi_color,(sx,sy),(sx+sw,sy+sh),(0,0,255),2)\n",
    "    return frame\n",
    "video=cv2.VideoCapture(0)\n",
    "while(video.isOpened()):\n",
    "    i,frame=video.read()\n",
    "    gray=cv2.cvtColor(frame,cv2.COLOR_BGR2GRAY)\n",
    "    canvas=detect(gray,frame)\n",
    "    cv2.imshow('',canvas)\n",
    "    if(cv2.waitKey(1) & 0XFF==ord('q')):\n",
    "        break\n",
    "video.release()\n",
    "cv2.destroyAllWindows()\n"
   ]
  },
  {
   "cell_type": "code",
   "execution_count": null,
   "id": "f65aecfd",
   "metadata": {},
   "outputs": [],
   "source": []
  }
 ],
 "metadata": {
  "kernelspec": {
   "display_name": "Python 3 (ipykernel)",
   "language": "python",
   "name": "python3"
  },
  "language_info": {
   "codemirror_mode": {
    "name": "ipython",
    "version": 3
   },
   "file_extension": ".py",
   "mimetype": "text/x-python",
   "name": "python",
   "nbconvert_exporter": "python",
   "pygments_lexer": "ipython3",
   "version": "3.10.9"
  }
 },
 "nbformat": 4,
 "nbformat_minor": 5
}
