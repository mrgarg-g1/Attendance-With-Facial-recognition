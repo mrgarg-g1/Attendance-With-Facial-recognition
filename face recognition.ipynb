{
 "cells": [
  {
   "cell_type": "code",
   "execution_count": 1,
   "id": "b1de4538",
   "metadata": {},
   "outputs": [],
   "source": [
    "import cv2\n",
    "import face_recognition\n",
    "import os\n",
    "import numpy as np\n",
    "from datetime import datetime\n",
    "import pickle\n"
   ]
  },
  {
   "cell_type": "code",
   "execution_count": 2,
   "id": "ae715a2d",
   "metadata": {},
   "outputs": [
    {
     "ename": "FileNotFoundError",
     "evalue": "[WinError 3] The system cannot find the path specified: 'd:/student_images'",
     "output_type": "error",
     "traceback": [
      "\u001b[1;31m---------------------------------------------------------------------------\u001b[0m",
      "\u001b[1;31mFileNotFoundError\u001b[0m                         Traceback (most recent call last)",
      "Cell \u001b[1;32mIn[2], line 4\u001b[0m\n\u001b[0;32m      2\u001b[0m images \u001b[38;5;241m=\u001b[39m []\n\u001b[0;32m      3\u001b[0m classNames \u001b[38;5;241m=\u001b[39m []\n\u001b[1;32m----> 4\u001b[0m mylist \u001b[38;5;241m=\u001b[39m \u001b[43mos\u001b[49m\u001b[38;5;241;43m.\u001b[39;49m\u001b[43mlistdir\u001b[49m\u001b[43m(\u001b[49m\u001b[43mpath\u001b[49m\u001b[43m)\u001b[49m\n\u001b[0;32m      5\u001b[0m \u001b[38;5;28;01mfor\u001b[39;00m cl \u001b[38;5;129;01min\u001b[39;00m mylist:\n\u001b[0;32m      6\u001b[0m     curImg \u001b[38;5;241m=\u001b[39m cv2\u001b[38;5;241m.\u001b[39mimread(\u001b[38;5;124mf\u001b[39m\u001b[38;5;124m'\u001b[39m\u001b[38;5;132;01m{\u001b[39;00mpath\u001b[38;5;132;01m}\u001b[39;00m\u001b[38;5;124m/\u001b[39m\u001b[38;5;132;01m{\u001b[39;00mcl\u001b[38;5;132;01m}\u001b[39;00m\u001b[38;5;124m'\u001b[39m)\n",
      "\u001b[1;31mFileNotFoundError\u001b[0m: [WinError 3] The system cannot find the path specified: 'd:/student_images'"
     ]
    }
   ],
   "source": [
    "path=\"d:/student_images\"\n",
    "images = []\n",
    "classNames = []\n",
    "mylist = os.listdir(path)\n",
    "for cl in mylist:\n",
    "    curImg = cv2.imread(f'{path}/{cl}')\n",
    "    images.append(curImg)\n",
    "    classNames.append(os.path.splitext(cl)[0])"
   ]
  },
  {
   "cell_type": "code",
   "execution_count": null,
   "id": "c278b899",
   "metadata": {},
   "outputs": [],
   "source": [
    "def findEncodings(images):\n",
    "    encodeList = []\n",
    "    for img in images:\n",
    "        img = cv2.cvtColor(img, cv2.COLOR_BGR2RGB)\n",
    "        encoded_face = face_recognition.face_encodings(img)[0]\n",
    "        encodeList.append(encoded_face)\n",
    "    return encodeList\n",
    "encoded_face_train = findEncodings(images)"
   ]
  },
  {
   "cell_type": "code",
   "execution_count": null,
   "id": "146c147c",
   "metadata": {},
   "outputs": [],
   "source": [
    "def markAttendance(name):\n",
    "    with open(\"D:\\Attendance.csv\",'r+') as f:\n",
    "        myDataList = f.readlines()\n",
    "        nameList = []\n",
    "        for line in myDataList:\n",
    "            entry = line.split(',')\n",
    "            nameList.append(entry[0])\n",
    "        if name not in nameList:\n",
    "            current_time = datetime.now()\n",
    "            str_time = current_time.strftime(\"%Y%m%d%H%M%S\")\n",
    "            f.writelines(f\"{name},{str_time},\\n\")"
   ]
  },
  {
   "cell_type": "code",
   "execution_count": 5,
   "id": "96d05821",
   "metadata": {},
   "outputs": [
    {
     "name": "stdout",
     "output_type": "stream",
     "text": [
      "0\n",
      "0\n",
      "0\n",
      "2\n",
      "2\n"
     ]
    }
   ],
   "source": [
    "# take pictures from webcam \n",
    "cap  = cv2.VideoCapture(0)\n",
    "while (cap.isOpened()):\n",
    "    success, img = cap.read()\n",
    "    imgS = cv2.resize(img, (0,0), None, 0.25,0.25)\n",
    "    imgS = cv2.cvtColor(imgS, cv2.COLOR_BGR2RGB)\n",
    "    faces_in_frame = face_recognition.face_locations(imgS)\n",
    "    encoded_faces = face_recognition.face_encodings(imgS, faces_in_frame)\n",
    "    for encode_face, faceloc in zip(encoded_faces,faces_in_frame):\n",
    "        matches = face_recognition.compare_faces(encoded_face_train, encode_face)\n",
    "        faceDist = face_recognition.face_distance(encoded_face_train, encode_face)\n",
    "        matchIndex = np.argmin(faceDist)\n",
    "        print(matchIndex)\n",
    "        if matches[matchIndex]:\n",
    "            name = classNames[matchIndex].upper().lower()\n",
    "            y1,x2,y2,x1 = faceloc\n",
    "            # since we scaled down by 4 times\n",
    "            y1, x2,y2,x1 = y1*4,x2*4,y2*4,x1*4\n",
    "            cv2.rectangle(img,(x1,y1),(x2,y2),(0,255,0),2)\n",
    "            cv2.rectangle(img, (x1,y2-35),(x2,y2), (0,255,0), cv2.FILLED)\n",
    "            cv2.putText(img,name, (x1+6,y2-5), cv2.FONT_HERSHEY_COMPLEX,1,(255,255,255),2)\n",
    "            markAttendance(name)\n",
    "    cv2.imshow('webcam', img)\n",
    "    if(cv2.waitKey(1)&0XFF==ord('q')):\n",
    "            break\n",
    "    else:\n",
    "        cv2.imshow('webcam',img)\n",
    "        if(cv2.waitKey(1)&0XFF==ord('q')):\n",
    "            break\n",
    "cap.release()\n",
    "cv2.destroyAllWindows()"
   ]
  },
  {
   "cell_type": "code",
   "execution_count": 6,
   "id": "f7a27754",
   "metadata": {},
   "outputs": [
    {
     "data": {
      "text/plain": [
       "'cface=cv2.CascadeClassifier(\"C:/Users/gargd/OneDrive/Desktop/pythonAI/pretrain FILES/haarcascade_frontalface_default.xml\")\\ndef detect(gray,frame):\\n    faces=[]\\n    faces=cface.detectMultiScale(gray,1.3,5)\\n    if len(faces) > 0:\\n        for(x,y,w,h) in faces:\\n            cv2.rectangle(frame,(x,y),(x+w,y+h),(255,0,0),2)\\n            roi_gray=gray[y:y+h,x:x+w]\\n            roi_color=frame[y:y+h,x:x+w]\\n        return faces, frame\\n    else:\\n        for(x,y,w,h) in faces:\\n            cv2.rectangle(frame,(x,y),(x+w,y+h),(255,0,0),2)\\n            roi_gray=gray[y:y+h,x:x+w]\\n            roi_color=frame[y:y+h,x:x+w]\\n        return faces, frame\\nvideo=cv2.VideoCapture(0)\\nwhile(video.isOpened()):\\n    i,frame=video.read()\\n    gray=cv2.cvtColor(frame,cv2.IMREAD_COLOR)\\n    faces,canvas=detect(gray,frame)\\n    cv2.imshow(\\'selfie\\',frame)\\n    if len(faces) > 0:\\n        current_time = datetime.now()\\n        str_time = current_time.strftime(\"%Y%m%d%H%M%S\")\\n        filePath=\"{0}:/{1}.jpg\".format(\\'d\\', str_time)\\n        print(filePath)\\n        cv2.imwrite(filePath,gray)\\n        if(cv2.waitKey(1)&0XFF==ord(\\'q\\')):\\n            break\\n    else:\\n        cv2.imshow(\\'selfie\\',frame)\\n        if(cv2.waitKey(1)&0XFF==ord(\\'q\\')):\\n            break\\nvideo.release()\\ncv2.destroyAllWindows()'"
      ]
     },
     "execution_count": 6,
     "metadata": {},
     "output_type": "execute_result"
    }
   ],
   "source": [
    "\"\"\"cface=cv2.CascadeClassifier(\"C:/Users/gargd/OneDrive/Desktop/pythonAI/pretrain FILES/haarcascade_frontalface_default.xml\")\n",
    "def detect(gray,frame):\n",
    "    faces=[]\n",
    "    faces=cface.detectMultiScale(gray,1.3,5)\n",
    "    if len(faces) > 0:\n",
    "        for(x,y,w,h) in faces:\n",
    "            cv2.rectangle(frame,(x,y),(x+w,y+h),(255,0,0),2)\n",
    "            roi_gray=gray[y:y+h,x:x+w]\n",
    "            roi_color=frame[y:y+h,x:x+w]\n",
    "        return faces, frame\n",
    "    else:\n",
    "        for(x,y,w,h) in faces:\n",
    "            cv2.rectangle(frame,(x,y),(x+w,y+h),(255,0,0),2)\n",
    "            roi_gray=gray[y:y+h,x:x+w]\n",
    "            roi_color=frame[y:y+h,x:x+w]\n",
    "        return faces, frame\n",
    "video=cv2.VideoCapture(0)\n",
    "while(video.isOpened()):\n",
    "    i,frame=video.read()\n",
    "    gray=cv2.cvtColor(frame,cv2.IMREAD_COLOR)\n",
    "    faces,canvas=detect(gray,frame)\n",
    "    cv2.imshow('selfie',frame)\n",
    "    if len(faces) > 0:\n",
    "        current_time = datetime.now()\n",
    "        str_time = current_time.strftime(\"%Y%m%d%H%M%S\")\n",
    "        filePath=\"{0}:/{1}.jpg\".format('d', str_time)\n",
    "        print(filePath)\n",
    "        cv2.imwrite(filePath,gray)\n",
    "        if(cv2.waitKey(1)&0XFF==ord('q')):\n",
    "            break\n",
    "    else:\n",
    "        cv2.imshow('selfie',frame)\n",
    "        if(cv2.waitKey(1)&0XFF==ord('q')):\n",
    "            break\n",
    "video.release()\n",
    "cv2.destroyAllWindows()\"\"\""
   ]
  },
  {
   "cell_type": "code",
   "execution_count": null,
   "id": "90093f8c",
   "metadata": {},
   "outputs": [],
   "source": []
  }
 ],
 "metadata": {
  "kernelspec": {
   "display_name": "Python 3 (ipykernel)",
   "language": "python",
   "name": "python3"
  },
  "language_info": {
   "codemirror_mode": {
    "name": "ipython",
    "version": 3
   },
   "file_extension": ".py",
   "mimetype": "text/x-python",
   "name": "python",
   "nbconvert_exporter": "python",
   "pygments_lexer": "ipython3",
   "version": "3.10.9"
  }
 },
 "nbformat": 4,
 "nbformat_minor": 5
}
