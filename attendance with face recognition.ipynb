{
 "cells": [
  {
   "cell_type": "code",
   "execution_count": 1,
   "id": "e935d3ab",
   "metadata": {},
   "outputs": [],
   "source": [
    "import cv2\n",
    "from datetime import datetime\n"
   ]
  },
  {
   "cell_type": "code",
   "execution_count": 5,
   "id": "9cab2de5",
   "metadata": {},
   "outputs": [
    {
     "name": "stdout",
     "output_type": "stream",
     "text": [
      "d:/20221220142844.jpg\n"
     ]
    },
    {
     "data": {
      "text/plain": [
       "\"\\ncam=cv2.VideoCapture(0)\\nwhile(cam.isOpened()):\\n    ind,img=cam.read()\\n    if ind:\\n        gray=cv2.cvtColor(img,cv2.IMREAD_COLOR)\\n        cv2.imshow('frame',gray)\\n        cv2.imwrite('sai.jpg',gray)\\n    if cv2.waitKey(0) & 0xFF==ord('q'):\\n        break\\ncam.release()\\ncv2.destroyAllWindows()\\n\""
      ]
     },
     "execution_count": 5,
     "metadata": {},
     "output_type": "execute_result"
    }
   ],
   "source": [
    "cface=cv2.CascadeClassifier(\"C:/Users/gargd/OneDrive/Desktop/pythonAI/pretrain FILES/haarcascade_frontalface_default.xml\")\n",
    "def detect(gray,frame):\n",
    "    faces=[]\n",
    "    faces=cface.detectMultiScale(gray,1.3,5)\n",
    "    if len(faces) > 0:\n",
    "        for(x,y,w,h) in faces:\n",
    "            cv2.rectangle(frame,(x,y),(x+w,y+h),(255,0,0),2)\n",
    "            roi_gray=gray[y:y+h,x:x+w]\n",
    "            roi_color=frame[y:y+h,x:x+w]\n",
    "        return faces, frame\n",
    "    else:\n",
    "        for(x,y,w,h) in faces:\n",
    "            cv2.rectangle(frame,(x,y),(x+w,y+h),(255,0,0),2)\n",
    "            roi_gray=gray[y:y+h,x:x+w]\n",
    "            roi_color=frame[y:y+h,x:x+w]\n",
    "        return faces, frame\n",
    "video=cv2.VideoCapture(0)\n",
    "while(video.isOpened()):\n",
    "    i,frame=video.read()\n",
    "    gray=cv2.cvtColor(frame,cv2.IMREAD_COLOR)\n",
    "    faces,canvas=detect(gray,frame)\n",
    "    cv2.imshow('selfie',frame)\n",
    "    if len(faces) > 0:\n",
    "        if(cv2.waitKey(1)&0XFF==ord('q')):\n",
    "            current_time = datetime.now()\n",
    "            str_time = current_time.strftime(\"%Y%m%d%H%M%S\")\n",
    "            filePath=\"{0}:/{1}.jpg\".format('d', str_time)\n",
    "            print(filePath)\n",
    "            cv2.imwrite(filePath,gray)\n",
    "            break\n",
    "    else:\n",
    "        cv2.imshow('selfie',frame)\n",
    "        if(cv2.waitKey(1)&0XFF==ord('q')):\n",
    "            break\n",
    "video.release()\n",
    "cv2.destroyAllWindows()\n",
    "'''\n",
    "cam=cv2.VideoCapture(0)\n",
    "while(cam.isOpened()):\n",
    "    ind,img=cam.read()\n",
    "    if ind:\n",
    "        gray=cv2.cvtColor(img,cv2.IMREAD_COLOR)\n",
    "        cv2.imshow('frame',gray)\n",
    "        cv2.imwrite('sai.jpg',gray)\n",
    "    if cv2.waitKey(0) & 0xFF==ord('q'):\n",
    "        break\n",
    "cam.release()\n",
    "cv2.destroyAllWindows()\n",
    "'''"
   ]
  },
  {
   "cell_type": "code",
   "execution_count": null,
   "id": "17982e9f",
   "metadata": {},
   "outputs": [],
   "source": []
  }
 ],
 "metadata": {
  "kernelspec": {
   "display_name": "Python 3 (ipykernel)",
   "language": "python",
   "name": "python3"
  },
  "language_info": {
   "codemirror_mode": {
    "name": "ipython",
    "version": 3
   },
   "file_extension": ".py",
   "mimetype": "text/x-python",
   "name": "python",
   "nbconvert_exporter": "python",
   "pygments_lexer": "ipython3",
   "version": "3.9.15"
  }
 },
 "nbformat": 4,
 "nbformat_minor": 5
}
